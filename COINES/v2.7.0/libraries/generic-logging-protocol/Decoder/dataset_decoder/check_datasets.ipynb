{
 "cells": [
  {
   "cell_type": "markdown",
   "metadata": {},
   "source": [
    "# check datasets\n",
    "checks the meata data and binary files in the dataset."
   ]
  },
  {
   "cell_type": "code",
   "execution_count": 2,
   "metadata": {},
   "outputs": [],
   "source": [
    "import os\n",
    "import matplotlib.pyplot as plt\n",
    "\n",
    "import DataloggerFormatHandler as dlf #import datalogger handler"
   ]
  },
  {
   "cell_type": "code",
   "execution_count": 3,
   "metadata": {},
   "outputs": [
    {
     "name": "stdout",
     "output_type": "stream",
     "text": [
      "[INFO] following datasets included:\n",
      "\\n[INFO] dataset repo \\t C:\\Users\\ina8cob\\scripts\\tutorial_datalogger\\tutorial\n",
      "[INFO]: check dataset repo: tutorial\\\n",
      "[INFO] file LOG_AFD0ED_1603887725768.bin found.\n",
      "\tstart: \t2020-10-28 17:52:05.768\n",
      "\tstop: \t2020-10-28 17:52:58.131\n",
      "[INFO] file LOG_AFD0ED_1603887786067.bin found.\n",
      "\tstart: \t2020-10-28 17:53:06.067\n",
      "\tstop: \t2020-10-28 17:53:51.399\n",
      "[INFO]: files in repo: 2\n",
      "[INFO]: missing files: 0\n"
     ]
    }
   ],
   "source": [
    "#############################################################################\n",
    "datasetList = []\n",
    "datasetList.append('tutorial\\\\')\n",
    "\n",
    "print(\"[INFO] following datasets included:\")\n",
    "for datasetDir in datasetList:\n",
    "    print(\"\\\\n[INFO] dataset repo \\\\t %s\"%(os.path.abspath(datasetDir)))\n",
    "    dataHandler = dlf.DatasetFormatHandler()\n",
    "    dataHandler.check_dataset(datasetDir)"
   ]
  },
  {
   "cell_type": "code",
   "execution_count": null,
   "metadata": {},
   "outputs": [],
   "source": []
  }
 ],
 "metadata": {
  "kernelspec": {
   "display_name": "Python 3",
   "language": "python",
   "name": "python3"
  },
  "language_info": {
   "codemirror_mode": {
    "name": "ipython",
    "version": 3
   },
   "file_extension": ".py",
   "mimetype": "text/x-python",
   "name": "python",
   "nbconvert_exporter": "python",
   "pygments_lexer": "ipython3",
   "version": "3.7.4"
  }
 },
 "nbformat": 4,
 "nbformat_minor": 4
}
