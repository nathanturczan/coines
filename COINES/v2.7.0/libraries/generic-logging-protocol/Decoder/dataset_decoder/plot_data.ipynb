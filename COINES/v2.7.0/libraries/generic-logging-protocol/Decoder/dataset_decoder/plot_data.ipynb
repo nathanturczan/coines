{
 "cells": [
  {
   "cell_type": "code",
   "execution_count": 5,
   "metadata": {},
   "outputs": [],
   "source": [
    "import sys\n",
    "import os\n",
    "import re\n",
    "import matplotlib.pyplot as plt\n",
    "import pandas as pd\n",
    "import numpy as np\n",
    "import json\n",
    "import datetime\n",
    "\n",
    "import DataloggerFormatHandler as dlf"
   ]
  },
  {
   "cell_type": "code",
   "execution_count": null,
   "metadata": {},
   "outputs": [],
   "source": [
    "#-------------------------------------------------------------------------------#\n",
    "# plot size parameters\n",
    "plt.rcParams['figure.figsize'] = (12, 14) \n",
    "#-------------------------------------------------------------------------------#\n",
    "\n",
    "datasetList = []\n",
    "datasetList.append('tutorial\\\\')\n",
    "\n",
    "#-------------------------------------------------------------------------------#\n",
    "for datasetDir in datasetList:\n",
    "    print(\"[INFO] dataset repo \\\\t %s\"%(os.path.abspath(datasetDir)))\n",
    "    dataHandler = dlf.DatasetFormatHandler()\n",
    "    # -------------- read data from dataset -------- #\n",
    "    dataHandler.read_dataset(datasetDir)\n",
    "    \n",
    "    # -------------- plot data -------- #\n",
    "    for idx in range(len(dataHandler.deviceconfigs)):\n",
    "        devCfg = dataHandler.deviceconfigs[idx]        \n",
    "        # plot sensor data\n",
    "        plot_idxL = len(devCfg[\"sensors\"]) + 1\n",
    "        plot_idx = 1\n",
    "        \n",
    "        # --- plot --- #\n",
    "        plt.figure()\n",
    "        for sensor in devCfg[\"sensors\"]:\n",
    "            sensordata = dataHandler.get_sensordata(dataHandler.data_a[idx],sensor[\"name\"])\n",
    "            senscfg = dataHandler.get_sensor_configs(sensor)\n",
    "            plt.subplot(plot_idxL,1,plot_idx)\n",
    "            dataHandler.plot_data(sensordata,senscfg[\"name\"], dataHandler.TIME_DT, senscfg[\"lsb2unit\"], title=dataHandler.csvDataList[\"file_name\"][idx])\n",
    "            plot_idx += 1\n",
    "        \n",
    "        plt.subplot(plot_idxL,1,plot_idx)\n",
    "        if dataHandler.labels_a[idx] is not None:\n",
    "            plt.title('LABELS: '+str(dataHandler.get_labelnames(dataHandler.labels_df[idx])))\n",
    "            plt.plot(dataHandler.labels_a[idx][\"time\"],dataHandler.labels_a[idx][\"label_id\"],label='label_id')\n",
    "            plt.xlabel(\"time (s)\")\n",
    "            plt.ylabel(\"label id\")\n",
    "            plt.grid()\n",
    "            \n",
    "        plt.tight_layout()\n",
    "        plt.show()\n",
    "            "
   ]
  },
  {
   "cell_type": "code",
   "execution_count": null,
   "metadata": {},
   "outputs": [],
   "source": []
  }
 ],
 "metadata": {
  "kernelspec": {
   "display_name": "Python 3",
   "language": "python",
   "name": "python3"
  },
  "language_info": {
   "codemirror_mode": {
    "name": "ipython",
    "version": 3
   },
   "file_extension": ".py",
   "mimetype": "text/x-python",
   "name": "python",
   "nbconvert_exporter": "python",
   "pygments_lexer": "ipython3",
   "version": "3.7.4"
  }
 },
 "nbformat": 4,
 "nbformat_minor": 4
}
